{
 "cells": [
  {
   "cell_type": "code",
   "execution_count": 1,
   "metadata": {
    "scrolled": true
   },
   "outputs": [
    {
     "name": "stdout",
     "output_type": "stream",
     "text": [
      "--2020-10-08 23:02:37--  https://www.dropbox.com/s/webw4cr5dsnm3jv/iris1.csv\n",
      "Resolving www.dropbox.com (www.dropbox.com)... 162.125.81.1, 2620:100:6031:1::a27d:5101\n",
      "Connecting to www.dropbox.com (www.dropbox.com)|162.125.81.1|:443... connected.\n",
      "HTTP request sent, awaiting response... 301 Moved Permanently\n",
      "Location: /s/raw/webw4cr5dsnm3jv/iris1.csv [following]\n",
      "--2020-10-08 23:02:37--  https://www.dropbox.com/s/raw/webw4cr5dsnm3jv/iris1.csv\n",
      "Reusing existing connection to www.dropbox.com:443.\n",
      "HTTP request sent, awaiting response... 302 Found\n",
      "Location: https://uca8ae9a57fa20f9221876761ef8.dl.dropboxusercontent.com/cd/0/inline/BA4bQrytOdo6VDNbpdG6GXZsKeEi-6uTEYNd-1zuGW2OOs28BVZ2JRMs2yv5Xwmny8aXvIgHqTusKW7i-vGwgOH3TRc78YwS77GD2o0yYcfsy0MFFFwdtkbs8qZXOndp_us/file# [following]\n",
      "--2020-10-08 23:02:38--  https://uca8ae9a57fa20f9221876761ef8.dl.dropboxusercontent.com/cd/0/inline/BA4bQrytOdo6VDNbpdG6GXZsKeEi-6uTEYNd-1zuGW2OOs28BVZ2JRMs2yv5Xwmny8aXvIgHqTusKW7i-vGwgOH3TRc78YwS77GD2o0yYcfsy0MFFFwdtkbs8qZXOndp_us/file\n",
      "Resolving uca8ae9a57fa20f9221876761ef8.dl.dropboxusercontent.com (uca8ae9a57fa20f9221876761ef8.dl.dropboxusercontent.com)... 162.125.82.15, 2620:100:6032:15::a27d:520f\n",
      "Connecting to uca8ae9a57fa20f9221876761ef8.dl.dropboxusercontent.com (uca8ae9a57fa20f9221876761ef8.dl.dropboxusercontent.com)|162.125.82.15|:443... connected.\n",
      "HTTP request sent, awaiting response... 200 OK\n",
      "Length: 4332 (4.2K) [text/plain]\n",
      "Saving to: ‘iris1.csv’\n",
      "\n",
      "iris1.csv           100%[===================>]   4.23K  --.-KB/s    in 0s      \n",
      "\n",
      "2020-10-08 23:02:39 (257 MB/s) - ‘iris1.csv’ saved [4332/4332]\n",
      "\n"
     ]
    }
   ],
   "source": [
    "!wget https://www.dropbox.com/s/webw4cr5dsnm3jv/iris1.csv"
   ]
  },
  {
   "cell_type": "code",
   "execution_count": 1,
   "metadata": {},
   "outputs": [
    {
     "data": {
      "text/html": [
       "<div>\n",
       "<style scoped>\n",
       "    .dataframe tbody tr th:only-of-type {\n",
       "        vertical-align: middle;\n",
       "    }\n",
       "\n",
       "    .dataframe tbody tr th {\n",
       "        vertical-align: top;\n",
       "    }\n",
       "\n",
       "    .dataframe thead th {\n",
       "        text-align: right;\n",
       "    }\n",
       "</style>\n",
       "<table border=\"1\" class=\"dataframe\">\n",
       "  <thead>\n",
       "    <tr style=\"text-align: right;\">\n",
       "      <th></th>\n",
       "      <th>sepal length (cm)</th>\n",
       "      <th>sepal width (cm)</th>\n",
       "      <th>petal length (cm)</th>\n",
       "      <th>petal width (cm)</th>\n",
       "      <th>Class</th>\n",
       "    </tr>\n",
       "  </thead>\n",
       "  <tbody>\n",
       "    <tr>\n",
       "      <th>0</th>\n",
       "      <td>5.1</td>\n",
       "      <td>3.5</td>\n",
       "      <td>1.4</td>\n",
       "      <td>0.2</td>\n",
       "      <td>Iris-Setosa</td>\n",
       "    </tr>\n",
       "    <tr>\n",
       "      <th>1</th>\n",
       "      <td>4.9</td>\n",
       "      <td>3.0</td>\n",
       "      <td>1.4</td>\n",
       "      <td>0.2</td>\n",
       "      <td>Iris-Setosa</td>\n",
       "    </tr>\n",
       "    <tr>\n",
       "      <th>2</th>\n",
       "      <td>4.7</td>\n",
       "      <td>3.2</td>\n",
       "      <td>1.3</td>\n",
       "      <td>0.2</td>\n",
       "      <td>Iris-Setosa</td>\n",
       "    </tr>\n",
       "    <tr>\n",
       "      <th>3</th>\n",
       "      <td>4.6</td>\n",
       "      <td>3.1</td>\n",
       "      <td>1.5</td>\n",
       "      <td>0.2</td>\n",
       "      <td>Iris-Setosa</td>\n",
       "    </tr>\n",
       "    <tr>\n",
       "      <th>4</th>\n",
       "      <td>5.0</td>\n",
       "      <td>NaN</td>\n",
       "      <td>1.4</td>\n",
       "      <td>0.2</td>\n",
       "      <td>Iris-Setosa</td>\n",
       "    </tr>\n",
       "  </tbody>\n",
       "</table>\n",
       "</div>"
      ],
      "text/plain": [
       "   sepal length (cm)  sepal width (cm)  petal length (cm)  petal width (cm)  \\\n",
       "0                5.1               3.5                1.4               0.2   \n",
       "1                4.9               3.0                1.4               0.2   \n",
       "2                4.7               3.2                1.3               0.2   \n",
       "3                4.6               3.1                1.5               0.2   \n",
       "4                5.0               NaN                1.4               0.2   \n",
       "\n",
       "         Class  \n",
       "0  Iris-Setosa  \n",
       "1  Iris-Setosa  \n",
       "2  Iris-Setosa  \n",
       "3  Iris-Setosa  \n",
       "4  Iris-Setosa  "
      ]
     },
     "execution_count": 1,
     "metadata": {},
     "output_type": "execute_result"
    }
   ],
   "source": [
    "# Load an analyze the data\n",
    "import pandas as pd\n",
    "import numpy as np\n",
    "df = pd.read_csv('content/iris1.csv')\n",
    "df.head()"
   ]
  },
  {
   "cell_type": "code",
   "execution_count": 2,
   "metadata": {},
   "outputs": [
    {
     "name": "stdout",
     "output_type": "stream",
     "text": [
      "the shape of the data is (150, 5)\n"
     ]
    }
   ],
   "source": [
    "print('the shape of the data is', df.shape)"
   ]
  },
  {
   "cell_type": "code",
   "execution_count": 3,
   "metadata": {},
   "outputs": [
    {
     "name": "stdout",
     "output_type": "stream",
     "text": [
      "The null values in each are: sepal length (cm)     0\n",
      "sepal width (cm)     30\n",
      "petal length (cm)    68\n",
      "petal width (cm)      0\n",
      "Class                 0\n",
      "dtype: int64\n"
     ]
    }
   ],
   "source": [
    "print('The null values in each are:', df.isnull().sum())"
   ]
  },
  {
   "cell_type": "code",
   "execution_count": 4,
   "metadata": {},
   "outputs": [],
   "source": [
    "# Handle null values\n",
    "for column in list(df.columns):\n",
    "    if df[column].isnull().sum()>(0.40*150):\n",
    "        df.drop(columns=column, axis=1,inplace=True)\n",
    "    elif df[column].isnull().sum():\n",
    "        df[column].replace(np.nan, df[column].mean(), inplace=True)\n",
    "    else:\n",
    "        continue"
   ]
  },
  {
   "cell_type": "code",
   "execution_count": 5,
   "metadata": {},
   "outputs": [
    {
     "data": {
      "text/html": [
       "<div>\n",
       "<style scoped>\n",
       "    .dataframe tbody tr th:only-of-type {\n",
       "        vertical-align: middle;\n",
       "    }\n",
       "\n",
       "    .dataframe tbody tr th {\n",
       "        vertical-align: top;\n",
       "    }\n",
       "\n",
       "    .dataframe thead th {\n",
       "        text-align: right;\n",
       "    }\n",
       "</style>\n",
       "<table border=\"1\" class=\"dataframe\">\n",
       "  <thead>\n",
       "    <tr style=\"text-align: right;\">\n",
       "      <th></th>\n",
       "      <th>sepal length (cm)</th>\n",
       "      <th>sepal width (cm)</th>\n",
       "      <th>petal width (cm)</th>\n",
       "      <th>Class</th>\n",
       "    </tr>\n",
       "  </thead>\n",
       "  <tbody>\n",
       "    <tr>\n",
       "      <th>0</th>\n",
       "      <td>5.1</td>\n",
       "      <td>3.5000</td>\n",
       "      <td>0.2</td>\n",
       "      <td>Iris-Setosa</td>\n",
       "    </tr>\n",
       "    <tr>\n",
       "      <th>1</th>\n",
       "      <td>4.9</td>\n",
       "      <td>3.0000</td>\n",
       "      <td>0.2</td>\n",
       "      <td>Iris-Setosa</td>\n",
       "    </tr>\n",
       "    <tr>\n",
       "      <th>2</th>\n",
       "      <td>4.7</td>\n",
       "      <td>3.2000</td>\n",
       "      <td>0.2</td>\n",
       "      <td>Iris-Setosa</td>\n",
       "    </tr>\n",
       "    <tr>\n",
       "      <th>3</th>\n",
       "      <td>4.6</td>\n",
       "      <td>3.1000</td>\n",
       "      <td>0.2</td>\n",
       "      <td>Iris-Setosa</td>\n",
       "    </tr>\n",
       "    <tr>\n",
       "      <th>4</th>\n",
       "      <td>5.0</td>\n",
       "      <td>3.0575</td>\n",
       "      <td>0.2</td>\n",
       "      <td>Iris-Setosa</td>\n",
       "    </tr>\n",
       "    <tr>\n",
       "      <th>...</th>\n",
       "      <td>...</td>\n",
       "      <td>...</td>\n",
       "      <td>...</td>\n",
       "      <td>...</td>\n",
       "    </tr>\n",
       "    <tr>\n",
       "      <th>145</th>\n",
       "      <td>6.7</td>\n",
       "      <td>3.0000</td>\n",
       "      <td>2.3</td>\n",
       "      <td>Iris-Virginica</td>\n",
       "    </tr>\n",
       "    <tr>\n",
       "      <th>146</th>\n",
       "      <td>6.3</td>\n",
       "      <td>2.5000</td>\n",
       "      <td>1.9</td>\n",
       "      <td>Iris-Virginica</td>\n",
       "    </tr>\n",
       "    <tr>\n",
       "      <th>147</th>\n",
       "      <td>6.5</td>\n",
       "      <td>3.0000</td>\n",
       "      <td>2.0</td>\n",
       "      <td>Iris-Virginica</td>\n",
       "    </tr>\n",
       "    <tr>\n",
       "      <th>148</th>\n",
       "      <td>6.2</td>\n",
       "      <td>3.0575</td>\n",
       "      <td>2.3</td>\n",
       "      <td>Iris-Virginica</td>\n",
       "    </tr>\n",
       "    <tr>\n",
       "      <th>149</th>\n",
       "      <td>5.9</td>\n",
       "      <td>3.0000</td>\n",
       "      <td>1.8</td>\n",
       "      <td>Iris-Virginica</td>\n",
       "    </tr>\n",
       "  </tbody>\n",
       "</table>\n",
       "<p>150 rows × 4 columns</p>\n",
       "</div>"
      ],
      "text/plain": [
       "     sepal length (cm)  sepal width (cm)  petal width (cm)           Class\n",
       "0                  5.1            3.5000               0.2     Iris-Setosa\n",
       "1                  4.9            3.0000               0.2     Iris-Setosa\n",
       "2                  4.7            3.2000               0.2     Iris-Setosa\n",
       "3                  4.6            3.1000               0.2     Iris-Setosa\n",
       "4                  5.0            3.0575               0.2     Iris-Setosa\n",
       "..                 ...               ...               ...             ...\n",
       "145                6.7            3.0000               2.3  Iris-Virginica\n",
       "146                6.3            2.5000               1.9  Iris-Virginica\n",
       "147                6.5            3.0000               2.0  Iris-Virginica\n",
       "148                6.2            3.0575               2.3  Iris-Virginica\n",
       "149                5.9            3.0000               1.8  Iris-Virginica\n",
       "\n",
       "[150 rows x 4 columns]"
      ]
     },
     "execution_count": 5,
     "metadata": {},
     "output_type": "execute_result"
    }
   ],
   "source": [
    "df"
   ]
  },
  {
   "cell_type": "code",
   "execution_count": 6,
   "metadata": {},
   "outputs": [
    {
     "name": "stdout",
     "output_type": "stream",
     "text": [
      "   sepal length (cm)  sepal width (cm)  petal width (cm)  Class\n",
      "0                5.1            3.5000               0.2      0\n",
      "1                4.9            3.0000               0.2      0\n",
      "2                4.7            3.2000               0.2      0\n",
      "3                4.6            3.1000               0.2      0\n",
      "4                5.0            3.0575               0.2      0\n",
      "[0 1 2]\n"
     ]
    }
   ],
   "source": [
    "# Convert categorical feature to numerical feture using LabelEncoder\n",
    "from sklearn.preprocessing import LabelEncoder\n",
    "le = LabelEncoder()\n",
    "df['Class'] = le.fit_transform(df['Class'])\n",
    "print(df.head())\n",
    "print(df['Class'].unique())"
   ]
  },
  {
   "cell_type": "code",
   "execution_count": 7,
   "metadata": {},
   "outputs": [
    {
     "data": {
      "image/png": "[encoded data removed]",
      "text/plain": [
       "<Figure size 720x1080 with 1 Axes>"
      ]
     },
     "metadata": {
      "needs_background": "light"
     },
     "output_type": "display_data"
    }
   ],
   "source": [
    "import matplotlib.pyplot as plt\n",
    "df.boxplot(figsize=(10, 15))\n",
    "plt.show()"
   ]
  },
  {
   "cell_type": "code",
   "execution_count": 9,
   "metadata": {},
   "outputs": [],
   "source": [
    "# Handle outlier\n",
    "q1 = df['sepal width (cm)'].quantile(.25)\n",
    "q3 = df['sepal width (cm)'].quantile(.75)\n",
    "IQR = q3 - q1\n",
    "df['sepal width (cm)'] = np.clip(df['sepal width (cm)'], q1 - 1.5 * IQR, q3 + 1.5 * IQR)"
   ]
  },
  {
   "cell_type": "code",
   "execution_count": 10,
   "metadata": {},
   "outputs": [
    {
     "data": {
      "image/png": "[encoded data removed]",
      "text/plain": [
       "<Figure size 576x864 with 1 Axes>"
      ]
     },
     "metadata": {
      "needs_background": "light"
     },
     "output_type": "display_data"
    }
   ],
   "source": [
    "df.boxplot(figsize=(8, 12))\n",
    "plt.show()"
   ]
  },
  {
   "cell_type": "code",
   "execution_count": 13,
   "metadata": {},
   "outputs": [
    {
     "data": {
      "text/plain": [
       "<AxesSubplot:>"
      ]
     },
     "execution_count": 13,
     "metadata": {},
     "output_type": "execute_result"
    },
    {
     "data": {
      "image/png": "[encoded data removed]",
      "text/plain": [
       "<Figure size 432x288 with 2 Axes>"
      ]
     },
     "metadata": {
      "needs_background": "light"
     },
     "output_type": "display_data"
    }
   ],
   "source": [
    "# Plot the correlation \n",
    "import seaborn as sns\n",
    "correlation = df.corr()\n",
    "sns.heatmap(correlation, annot=True)"
   ]
  },
  {
   "cell_type": "code",
   "execution_count": 15,
   "metadata": {},
   "outputs": [
    {
     "name": "stdout",
     "output_type": "stream",
     "text": [
      "(120, 3)\n",
      "(30, 3)\n",
      "(120,)\n",
      "(30,)\n"
     ]
    }
   ],
   "source": [
    "# Split the data into training and testing datasets\n",
    "from sklearn.model_selection import train_test_split\n",
    "X = df.iloc[:, :-1]\n",
    "Y = df.iloc[:, -1]\n",
    "X_train, X_test, Y_train, Y_test = train_test_split(X, Y, test_size=0.20, random_state=7)\n",
    "print(X_train.shape)\n",
    "print(X_test.shape)\n",
    "print(Y_train.shape)\n",
    "print(Y_test.shape)"
   ]
  },
  {
   "cell_type": "code",
   "execution_count": 17,
   "metadata": {},
   "outputs": [],
   "source": [
    "# Perform K-Fold cross validation with K=10, random_state=7\n",
    "# Perform mean score of each iteration\n",
    "import warnings\n",
    "warnings.filterwarnings(\"ignore\")"
   ]
  },
  {
   "cell_type": "code",
   "execution_count": 23,
   "metadata": {},
   "outputs": [
    {
     "name": "stdout",
     "output_type": "stream",
     "text": [
      "lr : acc : 0.9200000000000002(standard deviation: 0.07774602526460399)\n",
      "decision tree : acc : 0.9200000000000002(standard deviation: 0.07774602526460399)\n",
      "svm : acc : 0.9333333333333333(standard deviation: 0.07302967433402213)\n",
      "knn : acc : 0.9333333333333333(standard deviation: 0.06666666666666665)\n",
      "naive bayes : acc : 0.9400000000000001(standard deviation: 0.06289320754704401)\n",
      "Random Forest : acc : 0.9333333333333333(standard deviation: 0.08432740427115676)\n"
     ]
    }
   ],
   "source": [
    "from sklearn.model_selection import cross_val_score, KFold\n",
    "from sklearn.linear_model import LogisticRegression\n",
    "from sklearn.tree import DecisionTreeClassifier\n",
    "from sklearn.svm import SVC\n",
    "from sklearn.neighbors import KNeighborsClassifier\n",
    "from sklearn.naive_bayes import GaussianNB\n",
    "from sklearn.ensemble import RandomForestClassifier\n",
    "\n",
    "models = []\n",
    "models.append(('lr', LogisticRegression()))\n",
    "models.append(('decision tree', DecisionTreeClassifier()))\n",
    "models.append(('svm', SVC(gamma='auto')))\n",
    "models.append(('knn', KNeighborsClassifier()))\n",
    "models.append(('naive bayes', GaussianNB()))\n",
    "models.append(('Random Forest', RandomForestClassifier()))\n",
    "\n",
    "for name, model in models:\n",
    "    kfold = KFold(n_splits=10, random_state=7)\n",
    "    cross_val_sc = cross_val_score(model, X, Y, scoring='accuracy', cv=kfold)\n",
    "    print('{} : acc : {}(standard deviation: {})'.format(name, cross_val_sc.mean(), cross_val_sc.std()))"
   ]
  },
  {
   "cell_type": "code",
   "execution_count": 24,
   "metadata": {},
   "outputs": [],
   "source": [
    "# Train the model\n",
    "# Train a logistic regression model for prediction\n",
    "# Predict the classes for test data\n",
    "model = LogisticRegression()\n",
    "model.fit(X_train, Y_train)\n",
    "y_pred = model.predict(X_test)"
   ]
  },
  {
   "cell_type": "code",
   "execution_count": 26,
   "metadata": {},
   "outputs": [
    {
     "name": "stdout",
     "output_type": "stream",
     "text": [
      "[[7 0 0]\n",
      " [0 9 3]\n",
      " [0 2 9]]\n",
      "              precision    recall  f1-score   support\n",
      "\n",
      "           0       1.00      1.00      1.00         7\n",
      "           1       0.82      0.75      0.78        12\n",
      "           2       0.75      0.82      0.78        11\n",
      "\n",
      "    accuracy                           0.83        30\n",
      "   macro avg       0.86      0.86      0.86        30\n",
      "weighted avg       0.84      0.83      0.83        30\n",
      "\n"
     ]
    }
   ],
   "source": [
    "# Evaluate the model\n",
    "# Print confusion matrix of the test data\n",
    "# Find precision and recall using classification report\n",
    "from sklearn.metrics import confusion_matrix, classification_report\n",
    "print(confusion_matrix(Y_test, y_pred))\n",
    "print(classification_report(Y_test, y_pred))"
   ]
  },
  {
   "cell_type": "code",
   "execution_count": null,
   "metadata": {},
   "outputs": [],
   "source": []
  }
 ],
 "metadata": {
  "kernelspec": {
   "display_name": "Python 3",
   "language": "python",
   "name": "python3"
  },
  "language_info": {
   "codemirror_mode": {
    "name": "ipython",
    "version": 3
   },
   "file_extension": ".py",
   "mimetype": "text/x-python",
   "name": "python",
   "nbconvert_exporter": "python",
   "pygments_lexer": "ipython3",
   "version": "3.8.5"
  }
 },
 "nbformat": 4,
 "nbformat_minor": 4
}
