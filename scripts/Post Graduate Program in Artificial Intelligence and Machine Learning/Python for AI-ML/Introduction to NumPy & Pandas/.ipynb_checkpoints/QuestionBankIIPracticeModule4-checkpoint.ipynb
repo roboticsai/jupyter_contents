{
 "cells": [
  {
   "cell_type": "code",
   "execution_count": 13,
   "metadata": {},
   "outputs": [
    {
     "name": "stdout",
     "output_type": "stream",
     "text": [
      "(100, 5)\n",
      "(97, 5)\n",
      "    Position  Year         Make                           Model     Time\n",
      "0          1  2009      Radical                          SR8 LM  06:48.0\n",
      "1          2  2005      Radical                             SR8  06:56.1\n",
      "2          3  2013      Porsche                      918 Spyder  06:57.0\n",
      "3          4  2015  Lamborghini  Aventador LP 750-4 Superveloce  06:59.7\n",
      "4          5  2015       Nissan                      GT-R Nismo  07:08.7\n",
      "..       ...   ...          ...                             ...      ...\n",
      "95        96  2003      Ferrari                          360 CS  07:56.0\n",
      "96        97  2009      Ferrari                   California GT  07:56.0\n",
      "97        98  2009      Porsche     Panamera Sport Chrono Turbo  07:56.0\n",
      "98        99  2009      Porsche                  Panamera Turbo  07:56.0\n",
      "99       100  2002    Chevrolet                    Corvette Z06  07:56.0\n",
      "\n",
      "[97 rows x 5 columns]\n"
     ]
    }
   ],
   "source": [
    "'''16. Write a python program to remove all entries with a\n",
    "null value present.'''\n",
    "import pandas as pd\n",
    "df = pd.read_csv(\"lap_times.csv\")\n",
    "pd.isnull(df).any()\n",
    "print(df.shape)\n",
    "df = df.dropna(how='any',axis=0)\n",
    "pd.isnull(df).any()\n",
    "print(df.shape)\n",
    "print(df)"
   ]
  },
  {
   "cell_type": "code",
   "execution_count": 21,
   "metadata": {},
   "outputs": [
    {
     "name": "stdout",
     "output_type": "stream",
     "text": [
      "Before:\n",
      "    one  two\n",
      "a  1.0  1.0\n",
      "b  2.0  2.0\n",
      "c  NaN  3.0\n",
      "d  NaN  4.0\n",
      "e  5.0  NaN\n",
      "\n",
      "After:\n",
      "      one    two\n",
      "a    1.0    1.0\n",
      "b    2.0    2.0\n",
      "c  139.0    3.0\n",
      "d  139.0    4.0\n",
      "e    5.0  139.0\n"
     ]
    }
   ],
   "source": [
    "'''17. Write a python program to replace all missing values in the dataset with a desired value accepted\n",
    "from the user.'''\n",
    "import pandas\n",
    "import numpy as np\n",
    "data = {'one': pandas.Series([1,2,5], index=['a','b','e']),\n",
    "       'two': pandas.Series([1,2,3,4], index=['a','b','c','d'])\n",
    "       }\n",
    "table = pandas.DataFrame(data)\n",
    "print(\"Before:\\n\",table)\n",
    "print()\n",
    "buff = 139\n",
    "table['one'] = table['one'].replace(np.nan, buff)\n",
    "table['two'].fillna(buff, inplace = True)\n",
    "print(\"After:\\n\",table)"
   ]
  },
  {
   "cell_type": "code",
   "execution_count": 29,
   "metadata": {},
   "outputs": [
    {
     "name": "stdout",
     "output_type": "stream",
     "text": [
      "Before:\n",
      "    one  two\n",
      "a  1.0  1.0\n",
      "b  2.0  2.0\n",
      "c  NaN  3.0\n",
      "d  NaN  4.0\n",
      "e  5.0  NaN\n",
      "\n",
      "After:\n",
      "         One  Two\n",
      "0  1.000000  1.0\n",
      "1  2.000000  2.0\n",
      "2  2.666667  3.0\n",
      "3  2.666667  4.0\n",
      "4  5.000000  2.5\n"
     ]
    }
   ],
   "source": [
    "'''18. Develop a Python code to impute a mean value to all\n",
    "the null fields present in the data provided.'''\n",
    "import pandas\n",
    "import numpy as np\n",
    "data = {'one':pandas.Series([1,2,5], index=['a','b','e']),\n",
    "        'two':pandas.Series([1,2,3,4], index=['a','b','c','d'])\n",
    "       }\n",
    "table = pandas.DataFrame(data)\n",
    "print(\"Before:\\n\",table)\n",
    "\n",
    "from sklearn.impute import SimpleImputer\n",
    "imputer = SimpleImputer(missing_values=np.nan, strategy='mean')\n",
    "imputer.fit(table)\n",
    "imputed_data = imputer.transform(table.values)\n",
    "print(\"\\nAfter:\\n\", pandas.DataFrame(imputed_data, columns=['One','Two']))"
   ]
  },
  {
   "cell_type": "code",
   "execution_count": 1,
   "metadata": {},
   "outputs": [
    {
     "name": "stdout",
     "output_type": "stream",
     "text": [
      "   Customer_id       Loan_type Income\n",
      "0            1       Home Loan    30K\n",
      "1            2   Personal Loan    25K\n",
      "2            3  Education Loan    15K\n",
      "3            4       Home Loan    40K\n",
      "4            5     Credit Loan    35K\n",
      "\n",
      "   Customer_id  Loan_type_Education Loan  Loan_type_Home Loan  \\\n",
      "0            1                         0                    1   \n",
      "1            2                         0                    0   \n",
      "2            3                         1                    0   \n",
      "3            4                         0                    1   \n",
      "4            5                         0                    0   \n",
      "\n",
      "   Loan_type_Personal Loan  Income_25K  Income_30K  Income_35K  Income_40K  \n",
      "0                        0           0           1           0           0  \n",
      "1                        1           1           0           0           0  \n",
      "2                        0           0           0           0           0  \n",
      "3                        0           0           0           0           1  \n",
      "4                        0           0           0           1           0  \n"
     ]
    }
   ],
   "source": [
    "'''19. Write a pythonic method to convert categorical data\n",
    "into numerical data.'''\n",
    "import pandas as pd\n",
    "data = {\n",
    "    'Customer_id': pd.Series([1,2,3,4,5]),\n",
    "    'Loan_type': pd.Series(['Home Loan','Personal Loan','Education Loan',\n",
    "                           'Home Loan','Credit Loan']),\n",
    "    'Income': pd.Series(['30K','25K','15K','40K','35K'])\n",
    "}\n",
    "loan_info = pd.DataFrame(data)\n",
    "print(loan_info)\n",
    "print()\n",
    "loan_info = pd.get_dummies(loan_info, prefix_sep='_', drop_first=True)\n",
    "print(loan_info)"
   ]
  },
  {
   "cell_type": "code",
   "execution_count": null,
   "metadata": {},
   "outputs": [],
   "source": [
    "'''1. Write a Python program to fetch the title of the URL\n",
    "specified.'''\n",
    "from bs4 import BeautifulSoup\n",
    "import requests\n",
    "url = 'https://www.python.org/'\n",
    "req = requests.session()\n",
    "content = req.get(url)\n",
    "soup = BeautifulSoup(content.text, 'html.parser')\n",
    "#print(soup.prettify())\n",
    "print(soup.title)"
   ]
  },
  {
   "cell_type": "code",
   "execution_count": null,
   "metadata": {},
   "outputs": [],
   "source": [
    "'''2. Write a Python program to print content of elements\n",
    "that contain a specified string of a given web page.'''\n",
    "import requests\n",
    "import re\n",
    "from bs4 import BeautifulSoup as bs\n",
    "url = 'https://www.python.org/'"
   ]
  }
 ],
 "metadata": {
  "kernelspec": {
   "display_name": "Python 3",
   "language": "python",
   "name": "python3"
  },
  "language_info": {
   "codemirror_mode": {
    "name": "ipython",
    "version": 3
   },
   "file_extension": ".py",
   "mimetype": "text/x-python",
   "name": "python",
   "nbconvert_exporter": "python",
   "pygments_lexer": "ipython3",
   "version": "3.6.9"
  }
 },
 "nbformat": 4,
 "nbformat_minor": 4
}
