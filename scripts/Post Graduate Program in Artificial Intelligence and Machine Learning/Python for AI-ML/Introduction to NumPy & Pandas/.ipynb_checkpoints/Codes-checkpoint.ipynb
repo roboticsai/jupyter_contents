{
 "cells": [
  {
   "cell_type": "code",
   "execution_count": 1,
   "metadata": {},
   "outputs": [
    {
     "name": "stdout",
     "output_type": "stream",
     "text": [
      "[1 2 3]\n"
     ]
    }
   ],
   "source": [
    "# Defining a numpy array\n",
    "import numpy as np \n",
    "a = np.array([1, 2, 3])\n",
    "print(a)"
   ]
  },
  {
   "cell_type": "code",
   "execution_count": 2,
   "metadata": {},
   "outputs": [
    {
     "name": "stdout",
     "output_type": "stream",
     "text": [
      "[10 11 12 13 14 15 16 17 18 19 20 21 22 23 24 25 26 27 28 29 30 31 32 33\n",
      " 34 35 36 37 38 39 40 41 42 43 44 45 46 47 48 49 50 51 52 53 54 55 56 57\n",
      " 58 59 60 61 62 63 64 65 66 67 68 69 70 71 72 73 74 75 76 77 78 79 80 81\n",
      " 82 83 84 85 86 87 88 89 90 91 92 93 94 95 96 97 98 99]\n"
     ]
    }
   ],
   "source": [
    "\n",
    "import numpy as np\n",
    "arr = np.arange(10, 100) # Returs an array of numbers from 2 to 20 excluding 20\n",
    "print(arr)"
   ]
  },
  {
   "cell_type": "code",
   "execution_count": 47,
   "metadata": {},
   "outputs": [
    {
     "name": "stdout",
     "output_type": "stream",
     "text": [
      "[[0 0 0 0]\n",
      " [0 0 0 0]]\n"
     ]
    }
   ],
   "source": [
    "import numpy as np\n",
    "x=np.empty([2,4],dtype=int)\n",
    "print(x)"
   ]
  },
  {
   "cell_type": "code",
   "execution_count": 45,
   "metadata": {},
   "outputs": [
    {
     "name": "stdout",
     "output_type": "stream",
     "text": [
      "[[0. 0.]\n",
      " [0. 0.]]\n"
     ]
    }
   ],
   "source": [
    "import numpy as np\n",
    "x=np.zeros([2,2]) # Creates an array of zeros with specified shape\n",
    "print(x)"
   ]
  },
  {
   "cell_type": "code",
   "execution_count": 35,
   "metadata": {},
   "outputs": [
    {
     "name": "stdout",
     "output_type": "stream",
     "text": [
      "[[0. 0. 0. 0. 0.]\n",
      " [0. 0. 0. 0. 0.]\n",
      " [0. 0. 0. 0. 0.]\n",
      " [0. 0. 0. 0. 0.]\n",
      " [0. 0. 0. 0. 0.]]\n"
     ]
    }
   ],
   "source": [
    "import numpy as np\n",
    "arr = np.zeros((5,5))\n",
    "print(arr)"
   ]
  },
  {
   "cell_type": "code",
   "execution_count": 6,
   "metadata": {},
   "outputs": [
    {
     "name": "stdout",
     "output_type": "stream",
     "text": [
      "[ 0.  5. 10. 15. 20.]\n"
     ]
    }
   ],
   "source": [
    "import numpy as np\n",
    "vector = np.linspace( 0, 20, 5 ) # Returns numbers(float values) after every 5 numbers from 0 to 25\n",
    "print(vector)"
   ]
  },
  {
   "cell_type": "code",
   "execution_count": 7,
   "metadata": {},
   "outputs": [
    {
     "name": "stdout",
     "output_type": "stream",
     "text": [
      "[1 2 3]\n"
     ]
    }
   ],
   "source": [
    "import numpy as np\n",
    "x=[1,2,3]\n",
    "a=np.asarray(x) # Converts list (x) into array\n",
    "print(a)\n"
   ]
  },
  {
   "cell_type": "code",
   "execution_count": 8,
   "metadata": {},
   "outputs": [
    {
     "name": "stdout",
     "output_type": "stream",
     "text": [
      "[[[0. 0.]\n",
      "  [0. 0.]]\n",
      "\n",
      " [[0. 0.]\n",
      "  [0. 0.]]]\n"
     ]
    }
   ],
   "source": [
    "import numpy as np\n",
    "arr=np.zeros(8)\n",
    "arr3d=arr.reshape((2,2,2)) # Reshapes the array into specified dimension\n",
    "print(arr3d)"
   ]
  },
  {
   "cell_type": "code",
   "execution_count": 9,
   "metadata": {},
   "outputs": [
    {
     "name": "stdout",
     "output_type": "stream",
     "text": [
      "[0. 0. 0. 0. 0. 0. 0. 0.]\n"
     ]
    }
   ],
   "source": [
    "import numpy as np\n",
    "arr=np.zeros(8)\n",
    "arr3d=arr.reshape((2,2,2))\n",
    "arr=arr3d.ravel()\n",
    "print(arr)"
   ]
  },
  {
   "cell_type": "code",
   "execution_count": 10,
   "metadata": {},
   "outputs": [
    {
     "name": "stdout",
     "output_type": "stream",
     "text": [
      "8\n"
     ]
    }
   ],
   "source": [
    "import numpy as np\n",
    "arr=np.arange(2,20) \n",
    "element=arr[6]\n",
    "print(element)\n"
   ]
  },
  {
   "cell_type": "code",
   "execution_count": 26,
   "metadata": {},
   "outputs": [
    {
     "data": {
      "text/plain": [
       "array([1, 3, 5, 7, 9])"
      ]
     },
     "execution_count": 26,
     "metadata": {},
     "output_type": "execute_result"
    }
   ],
   "source": [
    "import numpy as np\n",
    "arr=np.arange(20)\n",
    "arr_slice=slice( 1,10,2 ) # Slices numbers from 1 to 10 and returns values after stepping every 2 numbers\n",
    "arr[arr_slice]"
   ]
  },
  {
   "cell_type": "code",
   "execution_count": 12,
   "metadata": {},
   "outputs": [
    {
     "name": "stdout",
     "output_type": "stream",
     "text": [
      "[ 2  3  4  5  6  7  8  9 10 11 12 13 14 15 16 17 18 19]\n"
     ]
    }
   ],
   "source": [
    "import numpy as np\n",
    "arr=np.arange(20)\n",
    "print(arr[2:])"
   ]
  },
  {
   "cell_type": "code",
   "execution_count": 13,
   "metadata": {},
   "outputs": [
    {
     "name": "stdout",
     "output_type": "stream",
     "text": [
      "[ 0  1  2  3  4  5  6  7  8  9 10 11 12 13 14]\n"
     ]
    }
   ],
   "source": [
    "import numpy as np\n",
    "arr=np.arange(20)\n",
    "print(arr[:15])"
   ]
  },
  {
   "cell_type": "code",
   "execution_count": 14,
   "metadata": {},
   "outputs": [
    {
     "name": "stdout",
     "output_type": "stream",
     "text": [
      "[[1 2]\n",
      " [3 4]]\n"
     ]
    }
   ],
   "source": [
    "import numpy as np\n",
    "a=np.array([[1,2,3],[3,4,5],[4,5,6]])\n",
    "print(a[0:2,0:2])"
   ]
  },
  {
   "cell_type": "code",
   "execution_count": 15,
   "metadata": {},
   "outputs": [
    {
     "name": "stdout",
     "output_type": "stream",
     "text": [
      "(3, 3)\n",
      "2\n",
      "4\n"
     ]
    }
   ],
   "source": [
    "import numpy as np\n",
    "a=np.array([[1,2,3],[3,4,5],[4,5,6]])\n",
    "print(a.shape)\n",
    "print(a.ndim)  # Returns the dimensions of an array\n",
    "print(a.itemsize)  # Returns the size of an array in bytes"
   ]
  },
  {
   "cell_type": "code",
   "execution_count": 16,
   "metadata": {},
   "outputs": [
    {
     "name": "stdout",
     "output_type": "stream",
     "text": [
      "    0\n",
      "0  10\n",
      "1  20\n",
      "2  30\n",
      "3  40\n"
     ]
    }
   ],
   "source": [
    "import pandas\n",
    "listx = [10, 20, 30, 40]\n",
    "table = pandas.DataFrame(listx)\n",
    "print(table)"
   ]
  },
  {
   "cell_type": "code",
   "execution_count": 17,
   "metadata": {},
   "outputs": [
    {
     "name": "stdout",
     "output_type": "stream",
     "text": [
      "   a  b    c\n",
      "0  1  2  NaN\n",
      "1  2  4  8.0\n"
     ]
    }
   ],
   "source": [
    "import pandas\n",
    "data = [{'a':1, 'b':2}, {'a':2, 'b':4, 'c':8}]\n",
    "table = pandas.DataFrame(data)\n",
    "print(table)"
   ]
  },
  {
   "cell_type": "code",
   "execution_count": 18,
   "metadata": {},
   "outputs": [
    {
     "name": "stdout",
     "output_type": "stream",
     "text": [
      "        a  b    c\n",
      "first   1  2  NaN\n",
      "second  2  4  8.0\n"
     ]
    }
   ],
   "source": [
    "import pandas\n",
    "data = [{'a':1, 'b':2}, {'a':2, 'b':4, 'c':8}]\n",
    "table = pandas.DataFrame(data, index=[ 'first', 'second' ])\n",
    "print(table)"
   ]
  },
  {
   "cell_type": "code",
   "execution_count": 19,
   "metadata": {},
   "outputs": [
    {
     "name": "stdout",
     "output_type": "stream",
     "text": [
      "   one  two\n",
      "a  1.0    1\n",
      "b  2.0    2\n",
      "c  3.0    3\n",
      "d  NaN    4\n"
     ]
    }
   ],
   "source": [
    "import pandas\n",
    "data = {'one': pandas.Series([1, 2, 3], index=['a', 'b', 'c']),\n",
    "        'two': pandas.Series([1, 2, 3, 4], index=['a', 'b', 'c', 'd'])}\n",
    "table = pandas.DataFrame(data)\n",
    "print(table)"
   ]
  },
  {
   "cell_type": "code",
   "execution_count": 20,
   "metadata": {},
   "outputs": [
    {
     "name": "stdout",
     "output_type": "stream",
     "text": [
      "   one  two  three\n",
      "a  1.0    1   10.0\n",
      "b  2.0    2   20.0\n",
      "c  3.0    3   30.0\n",
      "d  NaN    4    NaN\n"
     ]
    }
   ],
   "source": [
    "import pandas\n",
    "data = {'one': pandas.Series([1, 2, 3], index=['a', 'b', 'c']),\n",
    "        'two': pandas.Series([1, 2, 3, 4], index=['a', 'b', 'c', 'd'])}\n",
    "table = pandas.DataFrame(data)\n",
    "table['three'] = pandas.Series([10, 20, 30], index=['a', 'b', 'c'])  # Adding column \"three\"\n",
    "print(table)"
   ]
  },
  {
   "cell_type": "code",
   "execution_count": 28,
   "metadata": {},
   "outputs": [
    {
     "name": "stdout",
     "output_type": "stream",
     "text": [
      "   one  two  three\n",
      "a  1.0    1   10.0\n",
      "b  2.0    2   20.0\n",
      "c  3.0    3   30.0\n",
      "d  NaN    4    NaN\n",
      "one       3.0\n",
      "two       3.0\n",
      "three    30.0\n",
      "Name: c, dtype: float64\n"
     ]
    }
   ],
   "source": [
    "import pandas\n",
    "data = {'one': pandas.Series([1, 2, 3], index=['a', 'b', 'c']),\n",
    "        'two': pandas.Series([1, 2, 3, 4], index=['a', 'b', 'c', 'd'])}\n",
    "table = pandas.DataFrame(data)\n",
    "table['three'] = pandas.Series([10, 20, 30], index=['a', 'b', 'c'])\n",
    "print(table)\n",
    "print(table.loc['c']) # Returns  values of row \"c\""
   ]
  },
  {
   "cell_type": "code",
   "execution_count": 22,
   "metadata": {},
   "outputs": [
    {
     "name": "stdout",
     "output_type": "stream",
     "text": [
      "   one  two  three\n",
      "a  1.0    1   10.0\n",
      "b  2.0    2   20.0\n",
      "c  3.0    3   30.0\n",
      "d  NaN    4    NaN\n",
      "one       3.0\n",
      "two       3.0\n",
      "three    30.0\n",
      "Name: c, dtype: float64\n"
     ]
    }
   ],
   "source": [
    "import pandas\n",
    "data = {'one': pandas.Series([1, 2, 3], index=['a', 'b', 'c']),\n",
    "        'two': pandas.Series([1, 2, 3, 4], index=['a', 'b', 'c', 'd'])}\n",
    "table = pandas.DataFrame(data)\n",
    "table['three'] = pandas.Series([10, 20, 30], index=['a', 'b', 'c'])\n",
    "print(table)\n",
    "print(table.iloc[2])"
   ]
  },
  {
   "cell_type": "code",
   "execution_count": 23,
   "metadata": {},
   "outputs": [
    {
     "name": "stdout",
     "output_type": "stream",
     "text": [
      "   one  two  three\n",
      "a  1.0    1   10.0\n",
      "b  2.0    2   20.0\n",
      "c  3.0    3   30.0\n",
      "d  NaN    4    NaN\n",
      "   one  three  two\n",
      "a  1.0   10.0    1\n",
      "b  2.0   20.0    2\n",
      "c  3.0   30.0    3\n",
      "d  NaN    NaN    4\n",
      "0  NaN   13.0   11\n",
      "1  NaN   19.0   17\n"
     ]
    },
    {
     "name": "stderr",
     "output_type": "stream",
     "text": [
      "C:\\Users\\K C Prakash\\Anaconda3\\lib\\site-packages\\pandas\\core\\frame.py:7123: FutureWarning: Sorting because non-concatenation axis is not aligned. A future version\n",
      "of pandas will change to not sort by default.\n",
      "\n",
      "To accept the future behavior, pass 'sort=False'.\n",
      "\n",
      "To retain the current behavior and silence the warning, pass 'sort=True'.\n",
      "\n",
      "  sort=sort,\n"
     ]
    }
   ],
   "source": [
    "import pandas\n",
    "data = {'one': pandas.Series([1, 2, 3], index=['a', 'b', 'c']),\n",
    "        'two': pandas.Series([1, 2, 3, 4], index=['a', 'b', 'c', 'd'])}\n",
    "table = pandas.DataFrame(data)\n",
    "table['three'] = pandas.Series([10, 20, 30], index=['a', 'b', 'c'])\n",
    "print(table)\n",
    "row  = pandas.DataFrame([[11, 13], [17, 19]], columns=['two', 'three'])\n",
    "table = table.append(row) # Appends at the end of the table\n",
    "print(table)"
   ]
  },
  {
   "cell_type": "code",
   "execution_count": null,
   "metadata": {},
   "outputs": [],
   "source": []
  }
 ],
 "metadata": {
  "kernelspec": {
   "display_name": "Python 3",
   "language": "python",
   "name": "python3"
  },
  "language_info": {
   "codemirror_mode": {
    "name": "ipython",
    "version": 3
   },
   "file_extension": ".py",
   "mimetype": "text/x-python",
   "name": "python",
   "nbconvert_exporter": "python",
   "pygments_lexer": "ipython3",
   "version": "3.7.4"
  }
 },
 "nbformat": 4,
 "nbformat_minor": 2
}
