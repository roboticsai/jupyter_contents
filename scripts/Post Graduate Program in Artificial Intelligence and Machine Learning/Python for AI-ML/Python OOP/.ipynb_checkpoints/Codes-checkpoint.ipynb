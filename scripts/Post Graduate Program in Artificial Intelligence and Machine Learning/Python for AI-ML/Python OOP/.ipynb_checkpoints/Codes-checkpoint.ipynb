{
 "cells": [
  {
   "cell_type": "code",
   "execution_count": 1,
   "metadata": {},
   "outputs": [],
   "source": [
    "import math"
   ]
  },
  {
   "cell_type": "code",
   "execution_count": 3,
   "metadata": {},
   "outputs": [],
   "source": [
    "from math import sqrt"
   ]
  },
  {
   "cell_type": "code",
   "execution_count": 4,
   "metadata": {},
   "outputs": [],
   "source": [
    "from math import *"
   ]
  },
  {
   "cell_type": "code",
   "execution_count": 5,
   "metadata": {},
   "outputs": [
    {
     "name": "stdout",
     "output_type": "stream",
     "text": [
      "['__doc__', '__loader__', '__name__', '__package__', '__spec__', 'acos', 'acosh', 'asin', 'asinh', 'atan', 'atan2', 'atanh', 'ceil', 'copysign', 'cos', 'cosh', 'degrees', 'e', 'erf', 'erfc', 'exp', 'expm1', 'fabs', 'factorial', 'floor', 'fmod', 'frexp', 'fsum', 'gamma', 'gcd', 'hypot', 'inf', 'isclose', 'isfinite', 'isinf', 'isnan', 'ldexp', 'lgamma', 'log', 'log10', 'log1p', 'log2', 'modf', 'nan', 'pi', 'pow', 'radians', 'remainder', 'sin', 'sinh', 'sqrt', 'tan', 'tanh', 'tau', 'trunc']\n"
     ]
    }
   ],
   "source": [
    "print(dir(math))"
   ]
  },
  {
   "cell_type": "code",
   "execution_count": 6,
   "metadata": {},
   "outputs": [
    {
     "name": "stdout",
     "output_type": "stream",
     "text": [
      "3.141592653589793\n",
      "13\n",
      "12\n",
      "0.5403023058681398\n",
      "0.8414709848078965\n"
     ]
    }
   ],
   "source": [
    "import math\n",
    "print(math.pi)\n",
    "print(math.ceil(12.8989))\n",
    "print(math.floor(12.8989))\n",
    "print(math.cos(1))\n",
    "print(math.sin(1))\n"
   ]
  },
  {
   "cell_type": "code",
   "execution_count": 8,
   "metadata": {},
   "outputs": [
    {
     "name": "stdout",
     "output_type": "stream",
     "text": [
      "C:\\Users\\prakash kc\\Documents\\pgp-Python\\Demo Snippets\\m2\n",
      "nt\n",
      "1\n"
     ]
    },
    {
     "ename": "FileNotFoundError",
     "evalue": "[WinError 3] The system cannot find the path specified: '/home/edureka/sample1'",
     "output_type": "error",
     "traceback": [
      "\u001b[1;31m---------------------------------------------------------------------------\u001b[0m",
      "\u001b[1;31mFileNotFoundError\u001b[0m                         Traceback (most recent call last)",
      "\u001b[1;32m<ipython-input-8-57677963b02b>\u001b[0m in \u001b[0;36m<module>\u001b[1;34m\u001b[0m\n\u001b[0;32m      6\u001b[0m \u001b[0mprint\u001b[0m\u001b[1;33m(\u001b[0m\u001b[0mos\u001b[0m\u001b[1;33m.\u001b[0m\u001b[0msystem\u001b[0m\u001b[1;33m(\u001b[0m\u001b[1;34m'mkdir /home/edureka/sample1'\u001b[0m\u001b[1;33m)\u001b[0m\u001b[1;33m)\u001b[0m\u001b[1;33m\u001b[0m\u001b[1;33m\u001b[0m\u001b[0m\n\u001b[0;32m      7\u001b[0m \u001b[1;33m\u001b[0m\u001b[0m\n\u001b[1;32m----> 8\u001b[1;33m \u001b[0mprint\u001b[0m\u001b[1;33m(\u001b[0m\u001b[0mos\u001b[0m\u001b[1;33m.\u001b[0m\u001b[0mchdir\u001b[0m\u001b[1;33m(\u001b[0m\u001b[1;34m'/home/edureka/sample1'\u001b[0m\u001b[1;33m)\u001b[0m\u001b[1;33m)\u001b[0m\u001b[1;33m\u001b[0m\u001b[1;33m\u001b[0m\u001b[0m\n\u001b[0m\u001b[0;32m      9\u001b[0m \u001b[1;33m\u001b[0m\u001b[0m\n",
      "\u001b[1;31mFileNotFoundError\u001b[0m: [WinError 3] The system cannot find the path specified: '/home/edureka/sample1'"
     ]
    }
   ],
   "source": [
    "\n",
    "import os\n",
    "\n",
    "print(os.getcwd())\n",
    "print(os.name)\n",
    "\n",
    "print(os.system('mkdir /home/edureka/sample1')) \n",
    "\n",
    "print(os.chdir('/home/edureka/sample1'))\n",
    "\n"
   ]
  },
  {
   "cell_type": "code",
   "execution_count": 9,
   "metadata": {},
   "outputs": [
    {
     "name": "stdout",
     "output_type": "stream",
     "text": [
      "<class 'datetime.timedelta'>\n",
      "2020-04-13\n",
      "2020-02-05 03:47:58.884324+00:00\n"
     ]
    }
   ],
   "source": [
    "import datetime\n",
    "now=datetime.datetime.today()\n",
    "birthday=datetime.datetime(1995,3,12,22,10)\n",
    "print(type(now-birthday))\n",
    "print(datetime.date(2020, 4, 13))\n",
    "print(datetime.datetime.now(datetime.timezone.utc))"
   ]
  },
  {
   "cell_type": "code",
   "execution_count": 11,
   "metadata": {},
   "outputs": [],
   "source": [
    "def values_sum(dict1):\n",
    "    for key, values in dict1.items():\n",
    "        print(key,\":\", sum(values))\n"
   ]
  },
  {
   "cell_type": "code",
   "execution_count": 12,
   "metadata": {},
   "outputs": [
    {
     "ename": "ModuleNotFoundError",
     "evalue": "No module named 'dictmodule'",
     "output_type": "error",
     "traceback": [
      "\u001b[1;31m---------------------------------------------------------------------------\u001b[0m",
      "\u001b[1;31mModuleNotFoundError\u001b[0m                       Traceback (most recent call last)",
      "\u001b[1;32m<ipython-input-12-673187183297>\u001b[0m in \u001b[0;36m<module>\u001b[1;34m\u001b[0m\n\u001b[0;32m      1\u001b[0m \u001b[1;31m#importing the above defined module\u001b[0m\u001b[1;33m\u001b[0m\u001b[1;33m\u001b[0m\u001b[1;33m\u001b[0m\u001b[0m\n\u001b[1;32m----> 2\u001b[1;33m \u001b[1;32mimport\u001b[0m \u001b[0mdictmodule\u001b[0m \u001b[1;32mas\u001b[0m \u001b[0mdm\u001b[0m\u001b[1;33m\u001b[0m\u001b[1;33m\u001b[0m\u001b[0m\n\u001b[0m\u001b[0;32m      3\u001b[0m \u001b[1;31m#defining a dictionary\u001b[0m\u001b[1;33m\u001b[0m\u001b[1;33m\u001b[0m\u001b[1;33m\u001b[0m\u001b[0m\n\u001b[0;32m      4\u001b[0m \u001b[0mstudent\u001b[0m\u001b[1;33m=\u001b[0m \u001b[1;33m{\u001b[0m\u001b[1;34m'John'\u001b[0m\u001b[1;33m:\u001b[0m\u001b[1;33m[\u001b[0m\u001b[1;36m35\u001b[0m\u001b[1;33m,\u001b[0m\u001b[1;36m30\u001b[0m\u001b[1;33m,\u001b[0m\u001b[1;36m40\u001b[0m\u001b[1;33m,\u001b[0m\u001b[1;36m43\u001b[0m\u001b[1;33m,\u001b[0m\u001b[1;36m46\u001b[0m\u001b[1;33m]\u001b[0m\u001b[1;33m,\u001b[0m \u001b[1;34m'George'\u001b[0m\u001b[1;33m:\u001b[0m \u001b[1;33m[\u001b[0m \u001b[1;36m35\u001b[0m\u001b[1;33m,\u001b[0m \u001b[1;36m44\u001b[0m\u001b[1;33m,\u001b[0m \u001b[1;36m29\u001b[0m\u001b[1;33m,\u001b[0m \u001b[1;36m40\u001b[0m\u001b[1;33m,\u001b[0m \u001b[1;36m26\u001b[0m\u001b[1;33m]\u001b[0m\u001b[1;33m}\u001b[0m\u001b[1;33m\u001b[0m\u001b[1;33m\u001b[0m\u001b[0m\n\u001b[0;32m      5\u001b[0m \u001b[1;31m#calling the method\u001b[0m\u001b[1;33m\u001b[0m\u001b[1;33m\u001b[0m\u001b[1;33m\u001b[0m\u001b[0m\n",
      "\u001b[1;31mModuleNotFoundError\u001b[0m: No module named 'dictmodule'"
     ]
    }
   ],
   "source": [
    "#importing the above defined module\n",
    "import dictmodule as dm # Use the module name created by you\n",
    "#defining a dictionary\n",
    "student= {'John':[35,30,40,43,46], 'George': [ 35, 44, 29, 40, 26]}\n",
    "#calling the method\n",
    "dm.values_sum(student)\n"
   ]
  },
  {
   "cell_type": "code",
   "execution_count": 14,
   "metadata": {},
   "outputs": [
    {
     "name": "stdout",
     "output_type": "stream",
     "text": [
      "<__main__.number object at 0x000002776E876F48>\n"
     ]
    }
   ],
   "source": [
    "#Creating a Class\n",
    "class number():\n",
    "    pass\n",
    "#Creating Instance of Class\n",
    "x=number()\n",
    "print(x)\n",
    "\n"
   ]
  },
  {
   "cell_type": "code",
   "execution_count": 17,
   "metadata": {},
   "outputs": [
    {
     "name": "stdout",
     "output_type": "stream",
     "text": [
      "Happy Learning\n",
      "<class 'function'>\n",
      "<class 'method'>\n"
     ]
    }
   ],
   "source": [
    "\n",
    "class Edureka():\n",
    "    def Hello(self):\n",
    "        print(\"Happy Learning\")\n",
    "ob=Edureka()\n",
    "ob.Hello()\n",
    "print(type(Edureka.Hello))\n",
    "print(type(ob.Hello))\n",
    "        \n"
   ]
  },
  {
   "cell_type": "code",
   "execution_count": 21,
   "metadata": {},
   "outputs": [
    {
     "name": "stdout",
     "output_type": "stream",
     "text": [
      "Inside class 50 60\n",
      "Outside class 50\n"
     ]
    }
   ],
   "source": [
    "a=50\n",
    "class Edureka():\n",
    "    b = 60\n",
    "    print(\"Inside class\",a,b)\n",
    "    \n",
    "ob=Edureka()\n",
    "print(\"Outside class\",a)\n"
   ]
  },
  {
   "cell_type": "code",
   "execution_count": 22,
   "metadata": {},
   "outputs": [
    {
     "name": "stdout",
     "output_type": "stream",
     "text": [
      "Inside class 50 60\n"
     ]
    },
    {
     "ename": "NameError",
     "evalue": "name 'b' is not defined",
     "output_type": "error",
     "traceback": [
      "\u001b[1;31m---------------------------------------------------------------------------\u001b[0m",
      "\u001b[1;31mNameError\u001b[0m                                 Traceback (most recent call last)",
      "\u001b[1;32m<ipython-input-22-97f340e767ca>\u001b[0m in \u001b[0;36m<module>\u001b[1;34m\u001b[0m\n\u001b[0;32m      3\u001b[0m     \u001b[0mb\u001b[0m\u001b[1;33m=\u001b[0m\u001b[1;36m60\u001b[0m\u001b[1;33m\u001b[0m\u001b[1;33m\u001b[0m\u001b[0m\n\u001b[0;32m      4\u001b[0m     \u001b[0mprint\u001b[0m\u001b[1;33m(\u001b[0m\u001b[1;34m\"Inside class\"\u001b[0m\u001b[1;33m,\u001b[0m\u001b[0ma\u001b[0m\u001b[1;33m,\u001b[0m\u001b[0mb\u001b[0m\u001b[1;33m)\u001b[0m\u001b[1;33m\u001b[0m\u001b[1;33m\u001b[0m\u001b[0m\n\u001b[1;32m----> 5\u001b[1;33m \u001b[0mprint\u001b[0m\u001b[1;33m(\u001b[0m\u001b[0mb\u001b[0m\u001b[1;33m)\u001b[0m\u001b[1;33m\u001b[0m\u001b[1;33m\u001b[0m\u001b[0m\n\u001b[0m",
      "\u001b[1;31mNameError\u001b[0m: name 'b' is not defined"
     ]
    }
   ],
   "source": [
    "a=50\n",
    "class Edureka():\n",
    "    b=60\n",
    "    print(\"Inside class\",a,b)\n",
    "print(b)"
   ]
  },
  {
   "cell_type": "code",
   "execution_count": 23,
   "metadata": {},
   "outputs": [
    {
     "name": "stdout",
     "output_type": "stream",
     "text": [
      "Example1.__dict__: {'__module__': '__main__', '__doc__': 'simple example', 'empcount': 0, '__dict__': <attribute '__dict__' of 'Example1' objects>, '__weakref__': <attribute '__weakref__' of 'Example1' objects>}\n",
      "Example1.__doc__: simple example\n",
      "Example1.__name__ Example1\n",
      "Example1.__module__: __main__\n",
      "Example1.__bases__: (<class 'object'>,)\n"
     ]
    }
   ],
   "source": [
    "class Example1:\n",
    "    \"\"\"simple example\"\"\"\n",
    "    empcount=0\n",
    "print(\"Example1.__dict__:\",Example1.__dict__)\n",
    "print(\"Example1.__doc__:\",Example1.__doc__)\n",
    "print(\"Example1.__name__\",Example1.__name__)\n",
    "print(\"Example1.__module__:\",Example1.__module__)\n",
    "print(\"Example1.__bases__:\",Example1.__bases__)\n"
   ]
  },
  {
   "cell_type": "code",
   "execution_count": 25,
   "metadata": {},
   "outputs": [
    {
     "name": "stdout",
     "output_type": "stream",
     "text": [
      "Amazon John\n",
      "Edureka John 30\n"
     ]
    }
   ],
   "source": [
    "class HR():\n",
    "    employee = \"John\"\n",
    "    employer = \"Amazon\"\n",
    "\n",
    "e1 = HR()\n",
    "print(e1.employer, e1.employee)\n",
    "HR.employer = \"Edureka\"\n",
    "\n",
    "HR.age = 30\n",
    "\n",
    "print(e1.employer, e1.employee,e1.age)\n"
   ]
  },
  {
   "cell_type": "code",
   "execution_count": 26,
   "metadata": {},
   "outputs": [
    {
     "name": "stdout",
     "output_type": "stream",
     "text": [
      "Public Attribute\n",
      "Protected Attribute\n"
     ]
    },
    {
     "ename": "AttributeError",
     "evalue": "'Example' object has no attribute '__pri'",
     "output_type": "error",
     "traceback": [
      "\u001b[1;31m---------------------------------------------------------------------------\u001b[0m",
      "\u001b[1;31mAttributeError\u001b[0m                            Traceback (most recent call last)",
      "\u001b[1;32m<ipython-input-26-e3e2aeffd861>\u001b[0m in \u001b[0;36m<module>\u001b[1;34m\u001b[0m\n\u001b[0;32m      8\u001b[0m \u001b[0mprint\u001b[0m\u001b[1;33m(\u001b[0m\u001b[0mob\u001b[0m\u001b[1;33m.\u001b[0m\u001b[0mpub\u001b[0m\u001b[1;33m)\u001b[0m\u001b[1;33m\u001b[0m\u001b[1;33m\u001b[0m\u001b[0m\n\u001b[0;32m      9\u001b[0m \u001b[0mprint\u001b[0m\u001b[1;33m(\u001b[0m\u001b[0mob\u001b[0m\u001b[1;33m.\u001b[0m\u001b[0m_pro\u001b[0m\u001b[1;33m)\u001b[0m\u001b[1;33m\u001b[0m\u001b[1;33m\u001b[0m\u001b[0m\n\u001b[1;32m---> 10\u001b[1;33m \u001b[0mprint\u001b[0m\u001b[1;33m(\u001b[0m\u001b[0mob\u001b[0m\u001b[1;33m.\u001b[0m\u001b[0m__pri\u001b[0m\u001b[1;33m)\u001b[0m\u001b[1;33m\u001b[0m\u001b[1;33m\u001b[0m\u001b[0m\n\u001b[0m",
      "\u001b[1;31mAttributeError\u001b[0m: 'Example' object has no attribute '__pri'"
     ]
    }
   ],
   "source": [
    "class Example():\n",
    "    def __init__(self):\n",
    "        self.__pri = (\"Private Attribute\")\n",
    "        self._pro = (\"Protected Attribute\")\n",
    "        self.pub = (\"Public Attribute\")\n",
    "        \n",
    "ob = Example()\n",
    "print(ob.pub)\n",
    "print(ob._pro)\n",
    "print(ob.__pri)\n"
   ]
  },
  {
   "cell_type": "code",
   "execution_count": 27,
   "metadata": {},
   "outputs": [
    {
     "name": "stdout",
     "output_type": "stream",
     "text": [
      "public method\n"
     ]
    },
    {
     "ename": "AttributeError",
     "evalue": "'MyClass' object has no attribute '__myPrivateMethod'",
     "output_type": "error",
     "traceback": [
      "\u001b[1;31m---------------------------------------------------------------------------\u001b[0m",
      "\u001b[1;31mAttributeError\u001b[0m                            Traceback (most recent call last)",
      "\u001b[1;32m<ipython-input-27-5523131f7a4e>\u001b[0m in \u001b[0;36m<module>\u001b[1;34m\u001b[0m\n\u001b[0;32m      6\u001b[0m \u001b[0mobj\u001b[0m \u001b[1;33m=\u001b[0m \u001b[0mMyClass\u001b[0m\u001b[1;33m(\u001b[0m\u001b[1;33m)\u001b[0m\u001b[1;33m\u001b[0m\u001b[1;33m\u001b[0m\u001b[0m\n\u001b[0;32m      7\u001b[0m \u001b[0mobj\u001b[0m\u001b[1;33m.\u001b[0m\u001b[0mmyPublicMethod\u001b[0m\u001b[1;33m(\u001b[0m\u001b[1;33m)\u001b[0m\u001b[1;33m\u001b[0m\u001b[1;33m\u001b[0m\u001b[0m\n\u001b[1;32m----> 8\u001b[1;33m \u001b[0mobj\u001b[0m\u001b[1;33m.\u001b[0m\u001b[0m__myPrivateMethod\u001b[0m\u001b[1;33m(\u001b[0m\u001b[1;33m)\u001b[0m\u001b[1;33m\u001b[0m\u001b[1;33m\u001b[0m\u001b[0m\n\u001b[0m",
      "\u001b[1;31mAttributeError\u001b[0m: 'MyClass' object has no attribute '__myPrivateMethod'"
     ]
    }
   ],
   "source": [
    "class MyClass:\n",
    "    def myPublicMethod(self):\n",
    "        print('public method')\n",
    "        def __myPrivateMethod(self):\n",
    "            print('private method!!')\n",
    "obj = MyClass()\n",
    "obj.myPublicMethod()\n",
    "obj.__myPrivateMethod()\n"
   ]
  },
  {
   "cell_type": "code",
   "execution_count": 29,
   "metadata": {},
   "outputs": [
    {
     "name": "stdout",
     "output_type": "stream",
     "text": [
      "public method\n",
      "this is private!!\n"
     ]
    }
   ],
   "source": [
    "class MyClass:\n",
    "    def myPublicMethod(self):\n",
    "        print('public method')\n",
    "    def __myPrivateMethod(self):\n",
    "        print('this is private!!')\n",
    "obj = MyClass()\n",
    "\n",
    "obj.myPublicMethod()\n",
    "obj._MyClass__myPrivateMethod()\n",
    "\n"
   ]
  },
  {
   "cell_type": "code",
   "execution_count": 30,
   "metadata": {},
   "outputs": [
    {
     "name": "stdout",
     "output_type": "stream",
     "text": [
      "Crime\n"
     ]
    }
   ],
   "source": [
    "class ex:\n",
    "    def __init__(self):\n",
    "        self.__secret__=\"\"\n",
    "    def getSecret(self):\n",
    "        return(self.__secret__)\n",
    "    def setSecret(self,secret):\n",
    "        self.__secret__=secret\n",
    "ob=ex()\n",
    "ob.setSecret(\"Crime\")\n",
    "print(ob.getSecret())\n"
   ]
  },
  {
   "cell_type": "code",
   "execution_count": 31,
   "metadata": {},
   "outputs": [
    {
     "name": "stdout",
     "output_type": "stream",
     "text": [
      "Data Science\n",
      "GOD\n",
      "Data Science\n",
      "Python\n",
      "Machine Learning\n"
     ]
    }
   ],
   "source": [
    "class Edureka:\n",
    "    domain=(\"Data Science\")\n",
    "    def Setcourse(self,name):\n",
    "        self.name=name\n",
    "ob1=Edureka()\n",
    "ob2=Edureka()\n",
    "ob1.Setcourse(\"Python\")\n",
    "ob2.Setcourse(\"Machine Learning\")\n",
    "print(ob1.domain)\n",
    "ob1.domain = 'GOD'\n",
    "print(ob1.domain)\n",
    "print(ob2.domain)\n",
    "print(ob1.name)\n",
    "print(ob2.name)"
   ]
  },
  {
   "cell_type": "code",
   "execution_count": 33,
   "metadata": {},
   "outputs": [
    {
     "name": "stdout",
     "output_type": "stream",
     "text": [
      "constructor\n",
      "destructor\n"
     ]
    }
   ],
   "source": [
    "class TestClass:\n",
    "    def __init__(self):\n",
    "            print(\"constructor\")\n",
    "    def __del__(self):\n",
    "        print(\"destructor\")\n",
    "\n",
    "if __name__ == \"__main__\":\n",
    "    obj = TestClass()\n",
    "    del obj\n"
   ]
  },
  {
   "cell_type": "code",
   "execution_count": 34,
   "metadata": {},
   "outputs": [],
   "source": [
    "def circle_area():\n",
    "    r = int(input('Enter radius of the circle ='))\n",
    "    area = math.pi * r*r\n",
    "    print('The area of circle is =',area)"
   ]
  },
  {
   "cell_type": "code",
   "execution_count": 35,
   "metadata": {},
   "outputs": [
    {
     "name": "stdout",
     "output_type": "stream",
     "text": [
      "Enter radius of the circle =7\n",
      "The area of circle is = 153.93804002589985\n"
     ]
    }
   ],
   "source": [
    "circle_area()"
   ]
  },
  {
   "cell_type": "code",
   "execution_count": 36,
   "metadata": {},
   "outputs": [
    {
     "ename": "AttributeError",
     "evalue": "'Account' object has no attribute '__password'",
     "output_type": "error",
     "traceback": [
      "\u001b[1;31m---------------------------------------------------------------------------\u001b[0m",
      "\u001b[1;31mAttributeError\u001b[0m                            Traceback (most recent call last)",
      "\u001b[1;32m<ipython-input-36-f2b7893fc676>\u001b[0m in \u001b[0;36m<module>\u001b[1;34m\u001b[0m\n\u001b[0;32m      5\u001b[0m \u001b[1;33m\u001b[0m\u001b[0m\n\u001b[0;32m      6\u001b[0m \u001b[0mperson1\u001b[0m \u001b[1;33m=\u001b[0m \u001b[0mAccount\u001b[0m\u001b[1;33m(\u001b[0m\u001b[1;36m20101010568\u001b[0m\u001b[1;33m,\u001b[0m \u001b[1;34m\"****\"\u001b[0m\u001b[1;33m)\u001b[0m\u001b[1;33m\u001b[0m\u001b[1;33m\u001b[0m\u001b[0m\n\u001b[1;32m----> 7\u001b[1;33m \u001b[0mprint\u001b[0m\u001b[1;33m(\u001b[0m\u001b[0mperson1\u001b[0m\u001b[1;33m.\u001b[0m\u001b[0m__password\u001b[0m\u001b[1;33m)\u001b[0m\u001b[1;33m\u001b[0m\u001b[1;33m\u001b[0m\u001b[0m\n\u001b[0m",
      "\u001b[1;31mAttributeError\u001b[0m: 'Account' object has no attribute '__password'"
     ]
    }
   ],
   "source": [
    "class Account:\n",
    "    def __init__(self, account_number, password):\n",
    "        self.account_number = account_number\n",
    "        self.__password = password\n",
    "        \n",
    "person1 = Account(20101010568, \"****\")\n",
    "print(person1.__password)\n"
   ]
  },
  {
   "cell_type": "code",
   "execution_count": 38,
   "metadata": {},
   "outputs": [
    {
     "name": "stdout",
     "output_type": "stream",
     "text": [
      "John passed in all the subjects\n",
      "ValueError: invalid literal for int()\n"
     ]
    }
   ],
   "source": [
    "student_marks = {'John':[25,30,40,34,56], 'George': [ 30, 40, 35, 40, \"NA\"]}\n",
    "subjects_passed=0\n",
    "try:\n",
    "    for student in student_marks:\n",
    "        for marks in student_marks.get(student):\n",
    "            if int(marks)>24:\n",
    "                subjects_passed+=1\n",
    "                continue\n",
    "            else:\n",
    "                print(student, \"failed in one or more subjects\")\n",
    "                break\n",
    "        if subjects_passed==5:\n",
    "            print(student, \"passed in all the subjects\")\n",
    "except TypeError:\n",
    "    print(\"TypeError: ' not supported between instances of 'str' and 'int'\")\n",
    "except ValueError:\n",
    "    print(\"ValueError: invalid literal for int()\")\n"
   ]
  },
  {
   "cell_type": "code",
   "execution_count": 43,
   "metadata": {},
   "outputs": [
    {
     "name": "stdout",
     "output_type": "stream",
     "text": [
      "Error: can't find file or read data\n",
      "closing the file\n"
     ]
    },
    {
     "ename": "NameError",
     "evalue": "name 'fh' is not defined",
     "output_type": "error",
     "traceback": [
      "\u001b[1;31m---------------------------------------------------------------------------\u001b[0m",
      "\u001b[1;31mNameError\u001b[0m                                 Traceback (most recent call last)",
      "\u001b[1;32m<ipython-input-43-7acbfa98f709>\u001b[0m in \u001b[0;36m<module>\u001b[1;34m\u001b[0m\n\u001b[0;32m      7\u001b[0m \u001b[1;32mfinally\u001b[0m\u001b[1;33m:\u001b[0m\u001b[1;33m\u001b[0m\u001b[1;33m\u001b[0m\u001b[0m\n\u001b[0;32m      8\u001b[0m     \u001b[0mprint\u001b[0m\u001b[1;33m(\u001b[0m\u001b[1;34m\"closing the file\"\u001b[0m\u001b[1;33m)\u001b[0m\u001b[1;33m\u001b[0m\u001b[1;33m\u001b[0m\u001b[0m\n\u001b[1;32m----> 9\u001b[1;33m     \u001b[0mfh\u001b[0m\u001b[1;33m.\u001b[0m\u001b[0mclose\u001b[0m\u001b[1;33m(\u001b[0m\u001b[1;33m)\u001b[0m\u001b[1;33m\u001b[0m\u001b[1;33m\u001b[0m\u001b[0m\n\u001b[0m",
      "\u001b[1;31mNameError\u001b[0m: name 'fh' is not defined"
     ]
    }
   ],
   "source": [
    "try:\n",
    "    fh = open(\"testfile1.txt\", \"r\")\n",
    "    for i in fh:\n",
    "        print(i)\n",
    "except:\n",
    "    print(\"Error: can't find file or read data\")\n",
    "finally:\n",
    "    print(\"closing the file\")\n",
    "    fh.close()\n"
   ]
  },
  {
   "cell_type": "code",
   "execution_count": 46,
   "metadata": {},
   "outputs": [
    {
     "name": "stdout",
     "output_type": "stream",
     "text": [
      "Enter a number: 16\n",
      "This value is too large, try again!\n",
      "Enter a number: 5\n",
      "This value is too small, try again!\n",
      "Enter a number: 8\n",
      "This value is too small, try again!\n",
      "Enter a number: 12\n",
      "This value is too large, try again!\n",
      "Enter a number: 10\n",
      "Congratulations! You guessed it correctly.\n"
     ]
    }
   ],
   "source": [
    "# Base class for other exceptions \n",
    "class Error(Exception):\n",
    "    pass\n",
    "# Raised when the input value is too small\n",
    "class ValueSmallError(Error):\n",
    "    pass\n",
    "# Raised when the input value is too large\n",
    "class ValueLargeError(Error):\n",
    "    pass\n",
    "number = 10\n",
    "while True:\n",
    "    try:\n",
    "        in_num = int(input(\"Enter a number: \"))\n",
    "        if in_num < number:\n",
    "            raise ValueSmallError\n",
    "        elif in_num > number:            \n",
    "            raise ValueLargeError\n",
    "            break\n",
    "        elif in_num == number:\n",
    "            break\n",
    "    except ValueSmallError:\n",
    "        print(\"This value is too small, try again!\",end =\"\\n\")\n",
    "    except ValueLargeError:\n",
    "            print(\"This value is too large, try again!\",end =\"\\n\")\n",
    "print(\"Congratulations! You guessed it correctly.\")"
   ]
  },
  {
   "cell_type": "code",
   "execution_count": null,
   "metadata": {},
   "outputs": [],
   "source": []
  }
 ],
 "metadata": {
  "kernelspec": {
   "display_name": "Python 3",
   "language": "python",
   "name": "python3"
  },
  "language_info": {
   "codemirror_mode": {
    "name": "ipython",
    "version": 3
   },
   "file_extension": ".py",
   "mimetype": "text/x-python",
   "name": "python",
   "nbconvert_exporter": "python",
   "pygments_lexer": "ipython3",
   "version": "3.7.4"
  }
 },
 "nbformat": 4,
 "nbformat_minor": 2
}
