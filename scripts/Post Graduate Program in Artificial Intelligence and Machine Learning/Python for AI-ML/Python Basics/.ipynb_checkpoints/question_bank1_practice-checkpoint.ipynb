{
 "cells": [
  {
   "cell_type": "code",
   "execution_count": 1,
   "metadata": {},
   "outputs": [
    {
     "name": "stdout",
     "output_type": "stream",
     "text": [
      "Hey!\n",
      "Welcome\n",
      "to\n",
      "edureka!\n"
     ]
    }
   ],
   "source": [
    "'''1. Using escape sequence print each word in different lines. Sample:\n",
    "Input : 'Hey! Welcome to edureka!'\n",
    "Output:\n",
    "Hey!\n",
    "Welcome\n",
    "to\n",
    "edureka!'''\n",
    "my_text = 'Hey! Welcome to edureka!'\n",
    "for i in my_text.split(' '):\n",
    "    print(i)"
   ]
  },
  {
   "cell_type": "code",
   "execution_count": null,
   "metadata": {},
   "outputs": [],
   "source": [
    "'''2. Write a program to create a list of even numbers starting from x to y.\n",
    "Input:100 200\n",
    "Output:[100, 102, 104, 106, 108, 110, 112, 114, 116, 118, 120, 122, 124, 126, 128, 130, 132, 134, 136,\n",
    "138, 140, 142, 144, 146, 148, 150, 152, 154, 156, 158, 160,'''\n"
   ]
  }
 ],
 "metadata": {
  "kernelspec": {
   "display_name": "Python 3",
   "language": "python",
   "name": "python3"
  },
  "language_info": {
   "codemirror_mode": {
    "name": "ipython",
    "version": 3
   },
   "file_extension": ".py",
   "mimetype": "text/x-python",
   "name": "python",
   "nbconvert_exporter": "python",
   "pygments_lexer": "ipython3",
   "version": "3.6.9"
  }
 },
 "nbformat": 4,
 "nbformat_minor": 4
}
