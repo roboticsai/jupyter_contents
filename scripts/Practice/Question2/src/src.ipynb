{
 "cells": [
  {
   "cell_type": "code",
   "execution_count": 14,
   "metadata": {},
   "outputs": [
    {
     "name": "stdout",
     "output_type": "stream",
     "text": [
      "   Unnamed: 0  Survived  Pclass  Gender\n",
      "0           0         0       1       1\n",
      "1           1         0       2       1\n",
      "2           3         1       3       1\n",
      "3           4         1       3       0\n",
      "4           5         1       1       1\n",
      "[153, 63430, 29.60337579617832]\n"
     ]
    },
    {
     "name": "stderr",
     "output_type": "stream",
     "text": [
      "<ipython-input-14-9d2de1841d49>:32: SettingWithCopyWarning: \n",
      "A value is trying to be set on a copy of a slice from a DataFrame.\n",
      "Try using .loc[row_indexer,col_indexer] = value instead\n",
      "\n",
      "See the caveats in the documentation: https://pandas.pydata.org/pandas-docs/stable/user_guide/indexing.html#returning-a-view-versus-a-copy\n",
      "  df2['Gender'] = le.fit_transform(df2['Sex'])\n"
     ]
    }
   ],
   "source": [
    "import pandas as pd\n",
    "import numpy as np\n",
    "import os\n",
    "from sklearn.preprocessing import LabelEncoder\n",
    "from sklearn.model_selection import train_test_split\n",
    "from sklearn.linear_model import LinearRegression\n",
    "\n",
    "os.chdir('/home/ubuntu/python_virtenv/jupyter_contents/scripts/Practice/Question2')\n",
    "\n",
    "def Average(lst): \n",
    "    return sum(lst) / len(lst) \n",
    "\n",
    "def solution():\n",
    "    #reading from the file Titanic_train.csv\n",
    "    train=pd.read_csv('res/Titanic_train.csv')\n",
    "    #view the dataset\n",
    "    # print(train.head())\n",
    "\n",
    "    #1. Print the total number of cells having missing values in the Age column.\n",
    "    cells_having_missing_values = train['Age'].isnull().sum()\n",
    "    list = []\n",
    "    for index, row in train.iterrows():\n",
    "        if pd.isnull(row['Age']):\n",
    "            list.append(index)\n",
    "\n",
    "    df = pd.DataFrame(train)\n",
    "    df.dropna()\n",
    "    df1 = df[df['Age'].isnull()]\n",
    "    df2 = df[df['Age'].notnull()]\n",
    "    \n",
    "    le = LabelEncoder()\n",
    "    df2['Gender'] = le.fit_transform(df2['Sex'])\n",
    "    X = df2.drop(columns=['PassengerId', 'Name','Sex', 'Age', 'SibSp','Parch', 'Ticket', 'Fare', 'Cabin', 'Embarked'],axis=1)\n",
    "    y= df2['Age']\n",
    "    print(X.head())\n",
    "    \n",
    "    lr = LinearRegression()\n",
    "    lr.fit(X, y)\n",
    "    y_pred = lr.predict(X)\n",
    "    # Creating a list of the answer\n",
    "    result=[cells_having_missing_values, sum(list), Average(y_pred)]\n",
    "    print(result)\n",
    "    # NOTE: Here, 100, 200 and 300 are the answer of 1st, 2nd and 3rd question respectively. Change it accordingly.\n",
    "\n",
    "    # Finally create a dataframe of the final output  and write the output to output.csv\n",
    "\n",
    "    result=pd.DataFrame(result)\n",
    "    # writing output to output.csv\n",
    "    result.to_csv('output/output.csv', header=False, index=False)\n",
    "    \n",
    "solution()"
   ]
  },
  {
   "cell_type": "code",
   "execution_count": null,
   "metadata": {},
   "outputs": [],
   "source": []
  }
 ],
 "metadata": {
  "kernelspec": {
   "display_name": "Python 3",
   "language": "python",
   "name": "python3"
  },
  "language_info": {
   "codemirror_mode": {
    "name": "ipython",
    "version": 3
   },
   "file_extension": ".py",
   "mimetype": "text/x-python",
   "name": "python",
   "nbconvert_exporter": "python",
   "pygments_lexer": "ipython3",
   "version": "3.8.5"
  }
 },
 "nbformat": 4,
 "nbformat_minor": 4
}
