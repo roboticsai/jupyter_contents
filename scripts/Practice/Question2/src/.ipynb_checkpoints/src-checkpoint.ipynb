{
 "cells": [
  {
   "cell_type": "code",
   "execution_count": 19,
   "metadata": {},
   "outputs": [
    {
     "name": "stdout",
     "output_type": "stream",
     "text": [
      "   Unnamed: 0  PassengerId  Survived  Pclass                          Name  \\\n",
      "0           0          463         0       1             Gee, Mr. Arthur H   \n",
      "1           1          121         0       2   Hickman, Mr. Stanley George   \n",
      "2           3          415         1       3     Sundman, Mr. Johan Julian   \n",
      "3           4          480         1       3      Hirvonen, Miss. Hildur E   \n",
      "4           5          622         1       1  Kimball, Mr. Edwin Nelson Jr   \n",
      "\n",
      "      Sex   Age  SibSp  Parch             Ticket     Fare Cabin Embarked  \n",
      "0    male  47.0      0      0             111320  38.5000   E63        S  \n",
      "1    male  21.0      2      0       S.O.C. 14879  73.5000   NaN        S  \n",
      "2    male  44.0      0      0  STON/O 2. 3101269   7.9250   NaN        S  \n",
      "3  female   2.0      0      1            3101298  12.2875   NaN        S  \n",
      "4    male  42.0      1      0              11753  52.5542   D19        S  \n"
     ]
    }
   ],
   "source": [
    "import pandas as pd\n",
    "import numpy as np\n",
    "import sys\n",
    "import os\n",
    "os.chdir('/home/ubuntu/python_virtenv/jupyter_contents/scripts/Practice/Question2')\n",
    "\n",
    "def solution():\n",
    "    #reading from the file Titanic_train.csv\n",
    "    train=pd.read_csv('res/Titanic_train.csv')\n",
    "    #view the dataset\n",
    "    # print(train.head())\n",
    "    '''Write your code here....\n",
    "    .......\n",
    "    .......\n",
    "    '''\n",
    "    #1. Print the total number of cells having missing values in the Age column.\n",
    "    cells_having_missing_values = train['Age'].isnull().sum()\n",
    "    list = []\n",
    "    for index, row in train.iterrows():\n",
    "        if pd.isnull(row['Age']):\n",
    "            list.append(index)\n",
    "\n",
    "    # Creating a list of the answer\n",
    "    result=[cells_having_missing_values, sum(list), 300]\n",
    "    print(result)\n",
    "    # NOTE: Here, 100, 200 and 300 are the answer of 1st, 2nd and 3rd question respectively. Change it accordingly.\n",
    "\n",
    "    # Finally create a dataframe of the final output  and write the output to output.csv\n",
    "\n",
    "    result=pd.DataFrame(result)\n",
    "    # writing output to output.csv\n",
    "    result.to_csv('output/output.csv', header=False, index=False)\n",
    "    \n",
    "solution()"
   ]
  },
  {
   "cell_type": "code",
   "execution_count": null,
   "metadata": {},
   "outputs": [],
   "source": []
  }
 ],
 "metadata": {
  "kernelspec": {
   "display_name": "Python 3",
   "language": "python",
   "name": "python3"
  },
  "language_info": {
   "codemirror_mode": {
    "name": "ipython",
    "version": 3
   },
   "file_extension": ".py",
   "mimetype": "text/x-python",
   "name": "python",
   "nbconvert_exporter": "python",
   "pygments_lexer": "ipython3",
   "version": "3.8.5"
  }
 },
 "nbformat": 4,
 "nbformat_minor": 4
}
